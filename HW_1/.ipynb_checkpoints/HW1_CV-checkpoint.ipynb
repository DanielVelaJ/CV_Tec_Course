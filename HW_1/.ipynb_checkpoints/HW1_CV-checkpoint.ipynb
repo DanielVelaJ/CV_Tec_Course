{
 "cells": [
  {
   "cell_type": "code",
   "execution_count": 3,
   "id": "6028a597",
   "metadata": {},
   "outputs": [],
   "source": [
    "import cv2"
   ]
  },
  {
   "cell_type": "markdown",
   "id": "7525e6bf",
   "metadata": {},
   "source": [
    "# Capture\n",
    "1. Capture an Image \n",
    "Use escape to exit and space to capture an image\n"
   ]
  },
  {
   "cell_type": "code",
   "execution_count": 7,
   "id": "e0f023b3",
   "metadata": {},
   "outputs": [
    {
     "name": "stdout",
     "output_type": "stream",
     "text": [
      "image captured and saved\n",
      "Escape hit...closing\n"
     ]
    }
   ],
   "source": [
    "cam = cv2.VideoCapture(0)\n",
    "cv2.namedWindow('capture')\n",
    "img_counter=0\n",
    "while True:\n",
    "    ret,frame=cam.read()\n",
    "    if not ret:\n",
    "        print('failed to capture frame')\n",
    "        break\n",
    "    cv2.imshow('capture',frame)\n",
    "    k = cv2.waitKey(1)\n",
    "    if k == 27:\n",
    "        print('Escape hit...closing')\n",
    "        break\n",
    "    elif k == 32:\n",
    "        #space pressed\n",
    "        img_name='capture.png'\n",
    "        cv2.imwrite(img_name,frame)\n",
    "        print(f'image captured and saved')\n",
    "cam.release()# clos everything\n",
    "cv2.destroyAllWindows()\n",
    "    "
   ]
  },
  {
   "cell_type": "markdown",
   "id": "115ebd30",
   "metadata": {},
   "source": [
    "2. Convert to Gray Scale\n"
   ]
  },
  {
   "cell_type": "code",
   "execution_count": 8,
   "id": "ceb3cf9f",
   "metadata": {},
   "outputs": [],
   "source": [
    "image = cv2.imread('capture.png')\n",
    "gray = cv2.cvtColor(image,cv2.COLOR_BGR2GRAY)\n",
    "cv2.imshow('Gray Scale',image)"
   ]
  },
  {
   "cell_type": "code",
   "execution_count": 4,
   "id": "55e47ef9",
   "metadata": {},
   "outputs": [
    {
     "data": {
      "text/plain": [
       "'C:\\\\Users\\\\danic\\\\Dropbox\\\\TEC MAESTRIA\\\\Clases\\\\third semester\\\\Computer Vision\\\\homeworks\\\\homework 1'"
      ]
     },
     "execution_count": 4,
     "metadata": {},
     "output_type": "execute_result"
    }
   ],
   "source": [
    "pwd"
   ]
  },
  {
   "cell_type": "markdown",
   "id": "ab517ce8",
   "metadata": {},
   "source": [
    "\n",
    "3. Invert the Gray Scale (Negative Image)\n",
    "\n",
    "4. Change to HSV and display only the H channel\n",
    "\n",
    "5. Using a line pattern\n",
    "    1. At what distance you start seeing the Moiré patterns\n",
    "    2. Find the digital f of your camera (f/(∆x ))\n",
    "    3. Find the digital f for the Red, Green and Blue Channels\n",
    "    4. Do you see any differences between the Moiré Patterns?\n",
    "\n",
    "6. Down Sample the captured image\n",
    "    1. Determine the digital f for the sampled image\n",
    "\n",
    "    2. What is the difference between the original the sampled?"
   ]
  }
 ],
 "metadata": {
  "kernelspec": {
   "display_name": "Python 3 (ipykernel)",
   "language": "python",
   "name": "python3"
  },
  "language_info": {
   "codemirror_mode": {
    "name": "ipython",
    "version": 3
   },
   "file_extension": ".py",
   "mimetype": "text/x-python",
   "name": "python",
   "nbconvert_exporter": "python",
   "pygments_lexer": "ipython3",
   "version": "3.9.7"
  }
 },
 "nbformat": 4,
 "nbformat_minor": 5
}
